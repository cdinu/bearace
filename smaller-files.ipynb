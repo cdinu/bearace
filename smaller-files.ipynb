{
 "cells": [
  {
   "cell_type": "markdown",
   "metadata": {},
   "source": [
    "# Comparing Pandas, Polars, DASK and DuckDB"
   ]
  },
  {
   "cell_type": "code",
   "execution_count": 1,
   "metadata": {},
   "outputs": [],
   "source": [
    "import time\n",
    "import pandas as pd\n",
    "import polars as pl\n",
    "import dask.dataframe as dd\n",
    "import duckdb"
   ]
  },
  {
   "cell_type": "code",
   "execution_count": 2,
   "metadata": {},
   "outputs": [],
   "source": [
    "csv_file = \"data/smaller.csv\"\n",
    "parquet_file = \"data/smaller.parq\""
   ]
  },
  {
   "cell_type": "markdown",
   "metadata": {},
   "source": [
    "### Pandas"
   ]
  },
  {
   "cell_type": "code",
   "execution_count": 9,
   "metadata": {},
   "outputs": [
    {
     "name": "stdout",
     "output_type": "stream",
     "text": [
      "Pandas Time: 9.934837102890015 seconds\n",
      "Top Pandas Consumers:\n",
      "client_id\n",
      "2003     521.642606\n",
      "8562     521.450851\n",
      "4843     520.682684\n",
      "500      520.572509\n",
      "9229     520.526153\n",
      "3102     520.430531\n",
      "886      520.308441\n",
      "14296    520.284021\n",
      "14636    520.203022\n",
      "5579     520.165356\n",
      "Name: reading, dtype: float64\n",
      "\n"
     ]
    }
   ],
   "source": [
    "def bare_pandas():\n",
    "    # Timing Pandas\n",
    "    start_time = time.time()\n",
    "    pandas_df = pd.read_csv(csv_file)\n",
    "    top_pandas = pandas_df.groupby(\"client_id\")[\"reading\"].mean().nlargest(10)\n",
    "    pandas_end_time = time.time() - start_time\n",
    "    print(f\"Pandas Time: {pandas_end_time} seconds\")\n",
    "    print(f\"Top Pandas Consumers:\\n{top_pandas}\\n\")\n",
    "\n",
    "\n",
    "bare_pandas()  # 9.9 seconds"
   ]
  },
  {
   "cell_type": "markdown",
   "metadata": {},
   "source": [
    "### Pola.rs"
   ]
  },
  {
   "cell_type": "code",
   "execution_count": 10,
   "metadata": {},
   "outputs": [
    {
     "name": "stdout",
     "output_type": "stream",
     "text": [
      "Polars Time: 2.3439550399780273 seconds\n",
      "Top Polars Consumers:\n",
      "shape: (10, 2)\n",
      "┌───────────┬────────────┐\n",
      "│ client_id ┆ reading    │\n",
      "│ ---       ┆ ---        │\n",
      "│ i64       ┆ f64        │\n",
      "╞═══════════╪════════════╡\n",
      "│ 2003      ┆ 521.642606 │\n",
      "│ 8562      ┆ 521.450851 │\n",
      "│ 4843      ┆ 520.682684 │\n",
      "│ 500       ┆ 520.572509 │\n",
      "│ …         ┆ …          │\n",
      "│ 886       ┆ 520.308441 │\n",
      "│ 14296     ┆ 520.284021 │\n",
      "│ 14636     ┆ 520.203022 │\n",
      "│ 5579      ┆ 520.165356 │\n",
      "└───────────┴────────────┘\n",
      "\n"
     ]
    }
   ],
   "source": [
    "def bare_polars():\n",
    "    start_time = time.time()\n",
    "    polars_df = pl.read_csv(csv_file)\n",
    "    top_polars = (\n",
    "        polars_df.group_by(\"client_id\")\n",
    "        .agg(pl.mean(\"reading\"))\n",
    "        .sort(\"reading\", descending=True)\n",
    "        .head(10)\n",
    "    )\n",
    "    polars_end_time = time.time() - start_time\n",
    "    print(f\"Polars Time: {polars_end_time} seconds\")\n",
    "    print(f\"Top Polars Consumers:\\n{top_polars}\\n\")\n",
    "\n",
    "\n",
    "bare_polars()  # 2.4 seconds"
   ]
  },
  {
   "cell_type": "markdown",
   "metadata": {},
   "source": [
    "### Streamed Pola.rs"
   ]
  },
  {
   "cell_type": "code",
   "execution_count": 11,
   "metadata": {},
   "outputs": [
    {
     "data": {
      "text/html": [
       "<div><style>\n",
       ".dataframe > thead > tr,\n",
       ".dataframe > tbody > tr {\n",
       "  text-align: right;\n",
       "  white-space: pre-wrap;\n",
       "}\n",
       "</style>\n",
       "<small>shape: (15_000, 2)</small><table border=\"1\" class=\"dataframe\"><thead><tr><th>client_id</th><th>reading</th></tr><tr><td>i64</td><td>f64</td></tr></thead><tbody><tr><td>2003</td><td>521.642606</td></tr><tr><td>8562</td><td>521.450851</td></tr><tr><td>4843</td><td>520.682684</td></tr><tr><td>500</td><td>520.572509</td></tr><tr><td>9229</td><td>520.526153</td></tr><tr><td>3102</td><td>520.430531</td></tr><tr><td>886</td><td>520.308441</td></tr><tr><td>14296</td><td>520.284021</td></tr><tr><td>14636</td><td>520.203022</td></tr><tr><td>5579</td><td>520.165356</td></tr><tr><td>11626</td><td>520.046878</td></tr><tr><td>14899</td><td>519.917483</td></tr><tr><td>&hellip;</td><td>&hellip;</td></tr><tr><td>755</td><td>479.502045</td></tr><tr><td>13494</td><td>479.467373</td></tr><tr><td>13099</td><td>479.301346</td></tr><tr><td>5742</td><td>479.118539</td></tr><tr><td>11855</td><td>478.954529</td></tr><tr><td>4851</td><td>478.769475</td></tr><tr><td>4862</td><td>478.653093</td></tr><tr><td>10667</td><td>478.576554</td></tr><tr><td>1511</td><td>478.218035</td></tr><tr><td>12467</td><td>477.918116</td></tr><tr><td>6639</td><td>477.640416</td></tr><tr><td>10927</td><td>477.324262</td></tr></tbody></table></div>"
      ],
      "text/plain": [
       "shape: (15_000, 2)\n",
       "┌───────────┬────────────┐\n",
       "│ client_id ┆ reading    │\n",
       "│ ---       ┆ ---        │\n",
       "│ i64       ┆ f64        │\n",
       "╞═══════════╪════════════╡\n",
       "│ 2003      ┆ 521.642606 │\n",
       "│ 8562      ┆ 521.450851 │\n",
       "│ 4843      ┆ 520.682684 │\n",
       "│ 500       ┆ 520.572509 │\n",
       "│ …         ┆ …          │\n",
       "│ 1511      ┆ 478.218035 │\n",
       "│ 12467     ┆ 477.918116 │\n",
       "│ 6639      ┆ 477.640416 │\n",
       "│ 10927     ┆ 477.324262 │\n",
       "└───────────┴────────────┘"
      ]
     },
     "execution_count": 11,
     "metadata": {},
     "output_type": "execute_result"
    }
   ],
   "source": [
    "start_time = time.time()\n",
    "df = (\n",
    "    pl.scan_csv(csv_file)\n",
    "    .select(\"client_id\", \"reading\")\n",
    "    .group_by(\"client_id\")\n",
    "    .agg(pl.mean(\"reading\"))\n",
    "    .sort(\"reading\", descending=True)\n",
    "    .collect()\n",
    ")\n",
    "polars_scan_end_time = time.time() - start_time\n",
    "df  # 1.6s"
   ]
  },
  {
   "cell_type": "markdown",
   "metadata": {},
   "source": [
    "### DASK"
   ]
  },
  {
   "cell_type": "code",
   "execution_count": 12,
   "metadata": {},
   "outputs": [
    {
     "name": "stdout",
     "output_type": "stream",
     "text": [
      "Dask Time: 5.035941123962402 seconds\n"
     ]
    },
    {
     "data": {
      "text/plain": [
       "client_id\n",
       "2003     521.642606\n",
       "8562     521.450851\n",
       "4843     520.682684\n",
       "500      520.572509\n",
       "9229     520.526153\n",
       "3102     520.430531\n",
       "886      520.308441\n",
       "14296    520.284021\n",
       "14636    520.203022\n",
       "5579     520.165356\n",
       "Name: reading, dtype: float64"
      ]
     },
     "execution_count": 12,
     "metadata": {},
     "output_type": "execute_result"
    }
   ],
   "source": [
    "start_time = time.time()\n",
    "dask_df = dd.read_csv(csv_file)\n",
    "top_dask = dask_df.groupby(\"client_id\")[\"reading\"].mean().nlargest(10).compute()\n",
    "dask_end_time = time.time() - start_time\n",
    "print(f\"Dask Time: {dask_end_time} seconds\")\n",
    "top_dask  # 5 seconds"
   ]
  },
  {
   "cell_type": "code",
   "execution_count": 13,
   "metadata": {},
   "outputs": [
    {
     "data": {
      "text/plain": [
       "┌───────────┬───────────────────┬───────┐\n",
       "│ client_id │       mean        │ count │\n",
       "│   int64   │      double       │ int64 │\n",
       "├───────────┼───────────────────┼───────┤\n",
       "│      2003 │  521.642606171919 │  2006 │\n",
       "│      8562 │ 521.4508514775208 │  2000 │\n",
       "│      4843 │ 520.6826839380876 │  1988 │\n",
       "│       500 │ 520.5725093812654 │  1987 │\n",
       "│      9229 │ 520.5261528078271 │  2025 │\n",
       "│      3102 │ 520.4305311709822 │  2065 │\n",
       "│       886 │ 520.3084414854931 │  1980 │\n",
       "│     14296 │ 520.2840213145861 │  1974 │\n",
       "│     14636 │ 520.2030224715672 │  2012 │\n",
       "│      5579 │ 520.1653561713886 │  2010 │\n",
       "├───────────┴───────────────────┴───────┤\n",
       "│ 10 rows                     3 columns │\n",
       "└───────────────────────────────────────┘"
      ]
     },
     "execution_count": 13,
     "metadata": {},
     "output_type": "execute_result"
    }
   ],
   "source": [
    "# Timing DuckDB\n",
    "duckdb.sql(\n",
    "    \"\"\"\n",
    "    SELECT\n",
    "        client_id,\n",
    "        avg(reading) as mean,\n",
    "        count(*) as count\n",
    "    FROM\n",
    "        read_csv_auto('data/smaller.csv')\n",
    "    GROUP BY\n",
    "        client_id\n",
    "    ORDER BY\n",
    "        mean DESC\n",
    "    LIMIT 10;\n",
    "    \"\"\"\n",
    ")  # 3.4 seconds"
   ]
  },
  {
   "cell_type": "markdown",
   "metadata": {},
   "source": [
    "# What if we replace CSV with parquet?"
   ]
  },
  {
   "cell_type": "markdown",
   "metadata": {},
   "source": [
    "### Bare Pandas on parquet"
   ]
  },
  {
   "cell_type": "code",
   "execution_count": 16,
   "metadata": {},
   "outputs": [
    {
     "name": "stdout",
     "output_type": "stream",
     "text": [
      "Pandas Time: 2.8908376693725586 seconds\n",
      "Top Pandas Consumers:\n",
      "client_id\n",
      "2003     521.642606\n",
      "8562     521.450851\n",
      "4843     520.682684\n",
      "500      520.572509\n",
      "9229     520.526153\n",
      "3102     520.430531\n",
      "886      520.308441\n",
      "14296    520.284021\n",
      "14636    520.203022\n",
      "5579     520.165356\n",
      "Name: reading, dtype: float64\n",
      "\n"
     ]
    }
   ],
   "source": [
    "def bare_pandas_on_parquet():\n",
    "    # Timing Pandas\n",
    "    start_time = time.time()\n",
    "    pandas_df = pd.read_parquet(parquet_file)\n",
    "    top_pandas = pandas_df.groupby(\"client_id\")[\"reading\"].mean().nlargest(10)\n",
    "    pandas_end_time = time.time() - start_time\n",
    "    print(f\"Pandas Time: {pandas_end_time} seconds\")\n",
    "    print(f\"Top Pandas Consumers:\\n{top_pandas}\\n\")\n",
    "    top_pandas\n",
    "\n",
    "\n",
    "bare_pandas_on_parquet()  # 2.8 seconds"
   ]
  },
  {
   "cell_type": "markdown",
   "metadata": {},
   "source": [
    "## Bare Polars on Parquet"
   ]
  },
  {
   "cell_type": "code",
   "execution_count": 18,
   "metadata": {},
   "outputs": [
    {
     "name": "stdout",
     "output_type": "stream",
     "text": [
      "Polars Time: 1.750920057296753 seconds\n",
      "Top Polars Consumers:\n",
      "shape: (10, 2)\n",
      "┌───────────┬────────────┐\n",
      "│ client_id ┆ reading    │\n",
      "│ ---       ┆ ---        │\n",
      "│ i64       ┆ f64        │\n",
      "╞═══════════╪════════════╡\n",
      "│ 2003      ┆ 521.642606 │\n",
      "│ 8562      ┆ 521.450851 │\n",
      "│ 4843      ┆ 520.682684 │\n",
      "│ 500       ┆ 520.572509 │\n",
      "│ …         ┆ …          │\n",
      "│ 886       ┆ 520.308441 │\n",
      "│ 14296     ┆ 520.284021 │\n",
      "│ 14636     ┆ 520.203022 │\n",
      "│ 5579      ┆ 520.165356 │\n",
      "└───────────┴────────────┘\n",
      "\n"
     ]
    }
   ],
   "source": [
    "def bare_polars_on_parq():\n",
    "    start_time = time.time()\n",
    "    polars_df = pl.read_parquet(parquet_file)\n",
    "    top_polars = (\n",
    "        polars_df.group_by(\"client_id\")\n",
    "        .agg(pl.mean(\"reading\"))\n",
    "        .sort(\"reading\", descending=True)\n",
    "        .head(10)\n",
    "    )\n",
    "    polars_end_time = time.time() - start_time\n",
    "    print(f\"Polars Time: {polars_end_time} seconds\")\n",
    "    print(f\"Top Polars Consumers:\\n{top_polars}\\n\")\n",
    "\n",
    "\n",
    "bare_polars_on_parq()  # 1.8 seconds"
   ]
  },
  {
   "cell_type": "markdown",
   "metadata": {},
   "source": [
    "## Streamed Polars on Parquet"
   ]
  },
  {
   "cell_type": "code",
   "execution_count": 19,
   "metadata": {},
   "outputs": [
    {
     "data": {
      "text/html": [
       "<div><style>\n",
       ".dataframe > thead > tr,\n",
       ".dataframe > tbody > tr {\n",
       "  text-align: right;\n",
       "  white-space: pre-wrap;\n",
       "}\n",
       "</style>\n",
       "<small>shape: (10, 2)</small><table border=\"1\" class=\"dataframe\"><thead><tr><th>client_id</th><th>reading</th></tr><tr><td>i64</td><td>f64</td></tr></thead><tbody><tr><td>2003</td><td>521.642606</td></tr><tr><td>8562</td><td>521.450851</td></tr><tr><td>4843</td><td>520.682684</td></tr><tr><td>500</td><td>520.572509</td></tr><tr><td>9229</td><td>520.526153</td></tr><tr><td>3102</td><td>520.430531</td></tr><tr><td>886</td><td>520.308441</td></tr><tr><td>14296</td><td>520.284021</td></tr><tr><td>14636</td><td>520.203022</td></tr><tr><td>5579</td><td>520.165356</td></tr></tbody></table></div>"
      ],
      "text/plain": [
       "shape: (10, 2)\n",
       "┌───────────┬────────────┐\n",
       "│ client_id ┆ reading    │\n",
       "│ ---       ┆ ---        │\n",
       "│ i64       ┆ f64        │\n",
       "╞═══════════╪════════════╡\n",
       "│ 2003      ┆ 521.642606 │\n",
       "│ 8562      ┆ 521.450851 │\n",
       "│ 4843      ┆ 520.682684 │\n",
       "│ 500       ┆ 520.572509 │\n",
       "│ …         ┆ …          │\n",
       "│ 886       ┆ 520.308441 │\n",
       "│ 14296     ┆ 520.284021 │\n",
       "│ 14636     ┆ 520.203022 │\n",
       "│ 5579      ┆ 520.165356 │\n",
       "└───────────┴────────────┘"
      ]
     },
     "execution_count": 19,
     "metadata": {},
     "output_type": "execute_result"
    }
   ],
   "source": [
    "start_time = time.time()\n",
    "df = (\n",
    "    pl.scan_parquet(parquet_file)\n",
    "    .select(\"client_id\", \"reading\")\n",
    "    .group_by(\"client_id\")\n",
    "    .agg(pl.mean(\"reading\"))\n",
    "    .sort(\"reading\", descending=True)\n",
    "    .collect()\n",
    ")\n",
    "polars_scan_parquet_end_time = time.time() - start_time\n",
    "df.head(10)  # 0.7 seconds"
   ]
  },
  {
   "cell_type": "markdown",
   "metadata": {},
   "source": [
    "### DASK on Parquet"
   ]
  },
  {
   "cell_type": "code",
   "execution_count": 20,
   "metadata": {},
   "outputs": [
    {
     "ename": "",
     "evalue": "",
     "output_type": "error",
     "traceback": [
      "\u001b[1;31mThe Kernel crashed while executing code in the the current cell or a previous cell. Please review the code in the cell(s) to identify a possible cause of the failure. Click <a href='https://aka.ms/vscodeJupyterKernelCrash'>here</a> for more info. View Jupyter <a href='command:jupyter.viewOutput'>log</a> for further details."
     ]
    }
   ],
   "source": [
    "start_time = time.time()\n",
    "dask_df = dd.read_parquet(parquet_file)\n",
    "top_dask = dask_df.groupby(\"client_id\")[\"reading\"].mean().nlargest(10).compute()\n",
    "dask_parquet_end_time = time.time() - start_time\n",
    "print(f\"Dask Time: {dask_parquet_end_time} seconds\")\n",
    "top_dask  #"
   ]
  },
  {
   "cell_type": "markdown",
   "metadata": {},
   "source": [
    "### DuckDB on Parquet"
   ]
  },
  {
   "cell_type": "code",
   "execution_count": 3,
   "metadata": {},
   "outputs": [
    {
     "data": {
      "text/plain": [
       "┌───────────┬───────────────────┬───────┐\n",
       "│ client_id │       mean        │ count │\n",
       "│   int64   │      double       │ int64 │\n",
       "├───────────┼───────────────────┼───────┤\n",
       "│      2003 │  521.642606171919 │  2006 │\n",
       "│      8562 │ 521.4508514775208 │  2000 │\n",
       "│      4843 │ 520.6826839380876 │  1988 │\n",
       "│       500 │ 520.5725093812653 │  1987 │\n",
       "│      9229 │ 520.5261528078271 │  2025 │\n",
       "│      3102 │ 520.4305311709822 │  2065 │\n",
       "│       886 │ 520.3084414854931 │  1980 │\n",
       "│     14296 │ 520.2840213145862 │  1974 │\n",
       "│     14636 │ 520.2030224715672 │  2012 │\n",
       "│      5579 │ 520.1653561713886 │  2010 │\n",
       "├───────────┴───────────────────┴───────┤\n",
       "│ 10 rows                     3 columns │\n",
       "└───────────────────────────────────────┘"
      ]
     },
     "execution_count": 3,
     "metadata": {},
     "output_type": "execute_result"
    }
   ],
   "source": [
    "duckdb.sql(\n",
    "    \"\"\"\n",
    "    SELECT\n",
    "        client_id,\n",
    "        avg(reading) as mean,\n",
    "        count(*) as count\n",
    "    FROM\n",
    "        read_parquet('data/smaller.parq')\n",
    "    GROUP BY\n",
    "        client_id\n",
    "    ORDER BY\n",
    "        mean DESC\n",
    "    LIMIT 10;\n",
    "    \"\"\"\n",
    ")  # 0.3 seconds"
   ]
  },
  {
   "cell_type": "markdown",
   "metadata": {},
   "source": [
    "### Conclusion\n",
    "\n",
    "Test file:\n",
    "\n",
    "- rows: 30_000_000\n",
    "- size: 1.6 GB CSV / 620 MB parquet\n",
    "\n",
    "On a MBP M1Pro, 10 cores\n",
    "\n",
    "**CSV / Parquet**\n",
    "\n",
    "- Standard Pandas **10 sec** (1x)\n",
    "- Standard Polars: 2.4 sec (4x)\n",
    "- Streamed Polars: 1.6 sec (6x)\n",
    "- Dask: 5 sec (2x)\n",
    "- DuckDB: 3.4 sec (3x)\n",
    "\n",
    "**Parquet**\n",
    "\n",
    "- Standard Pandas: 2.89 sec (1x)\n",
    "- Standard Polars: 1.7 sec (1.5x)\n",
    "- Streamed Polars: 0.7 sec (4x)\n",
    "- Dask: - (crashed)\n",
    "- DuckDB: 0.3 sec (10x)\n",
    "\n",
    "\n",
    "Fastest vs slowest: 0.3 sec vs 9.9 sec (30x improvement)"
   ]
  }
 ],
 "metadata": {
  "kernelspec": {
   "display_name": "bearace-b7I0f-G1-py3.11",
   "language": "python",
   "name": "python3"
  },
  "language_info": {
   "codemirror_mode": {
    "name": "ipython",
    "version": 3
   },
   "file_extension": ".py",
   "mimetype": "text/x-python",
   "name": "python",
   "nbconvert_exporter": "python",
   "pygments_lexer": "ipython3",
   "version": "3.11.6"
  }
 },
 "nbformat": 4,
 "nbformat_minor": 2
}
