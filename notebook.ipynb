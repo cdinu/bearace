{
 "cells": [
  {
   "cell_type": "markdown",
   "metadata": {},
   "source": [
    "# Comparing Pandas, Polars, DASK and DuckDB"
   ]
  },
  {
   "cell_type": "code",
   "execution_count": 1,
   "metadata": {},
   "outputs": [],
   "source": [
    "import time\n",
    "import pandas as pd\n",
    "import polars as pl\n",
    "import dask.dataframe as dd\n",
    "import duckdb"
   ]
  },
  {
   "cell_type": "code",
   "execution_count": 2,
   "metadata": {},
   "outputs": [],
   "source": [
    "csv_file = \"data/dataset.csv\"\n",
    "parquet_file = \"data/dataset.parquet\""
   ]
  },
  {
   "cell_type": "markdown",
   "metadata": {},
   "source": [
    "### Pandas"
   ]
  },
  {
   "cell_type": "code",
   "execution_count": 2,
   "metadata": {},
   "outputs": [],
   "source": [
    "def bare_pandas():\n",
    "    # Timing Pandas\n",
    "    start_time = time.time()\n",
    "    pandas_df = pd.read_csv(csv_file)\n",
    "    top_pandas = pandas_df.groupby(\"client_id\")[\"reading\"].mean().nlargest(10)\n",
    "    pandas_end_time = time.time() - start_time\n",
    "    print(f\"Pandas Time: {pandas_end_time} seconds\")\n",
    "    print(f\"Top Pandas Consumers:\\n{top_pandas}\\n\")\n",
    "\n",
    "\n",
    "# bare_pandas()"
   ]
  },
  {
   "cell_type": "markdown",
   "metadata": {},
   "source": [
    "### Pola.rs"
   ]
  },
  {
   "cell_type": "code",
   "execution_count": 6,
   "metadata": {},
   "outputs": [
    {
     "ename": "",
     "evalue": "",
     "output_type": "error",
     "traceback": [
      "\u001b[1;31mThe Kernel crashed while executing code in the the current cell or a previous cell. Please review the code in the cell(s) to identify a possible cause of the failure. Click <a href='https://aka.ms/vscodeJupyterKernelCrash'>here</a> for more info. View Jupyter <a href='command:jupyter.viewOutput'>log</a> for further details."
     ]
    }
   ],
   "source": [
    "def bare_polars():\n",
    "    start_time = time.time()\n",
    "    polars_df = pl.read_csv(csv_file)\n",
    "    top_polars = (\n",
    "        polars_df.group_by(\"client_id\")\n",
    "        .agg(pl.mean(\"reading\"))\n",
    "        .sort(\"reading\", descending=True)\n",
    "        .head(10)\n",
    "    )\n",
    "    polars_end_time = time.time() - start_time\n",
    "    print(f\"Polars Time: {polars_end_time} seconds\")\n",
    "    print(f\"Top Polars Consumers:\\n{top_polars}\\n\")\n",
    "\n",
    "\n",
    "# bare_polars()"
   ]
  },
  {
   "cell_type": "markdown",
   "metadata": {},
   "source": [
    "### Streamed Pola.rs"
   ]
  },
  {
   "cell_type": "code",
   "execution_count": 16,
   "metadata": {},
   "outputs": [
    {
     "data": {
      "text/html": [
       "<div><style>\n",
       ".dataframe > thead > tr,\n",
       ".dataframe > tbody > tr {\n",
       "  text-align: right;\n",
       "  white-space: pre-wrap;\n",
       "}\n",
       "</style>\n",
       "<small>shape: (15_000, 2)</small><table border=\"1\" class=\"dataframe\"><thead><tr><th>client_id</th><th>reading</th></tr><tr><td>i64</td><td>f64</td></tr></thead><tbody><tr><td>4495</td><td>513.933888</td></tr><tr><td>8164</td><td>513.760061</td></tr><tr><td>3796</td><td>513.531397</td></tr><tr><td>4778</td><td>513.426086</td></tr><tr><td>616</td><td>513.04239</td></tr><tr><td>7945</td><td>512.390231</td></tr><tr><td>3472</td><td>512.097417</td></tr><tr><td>13002</td><td>512.095028</td></tr><tr><td>3027</td><td>511.962784</td></tr><tr><td>10926</td><td>511.949987</td></tr><tr><td>9398</td><td>511.941037</td></tr><tr><td>4364</td><td>511.750076</td></tr><tr><td>&hellip;</td><td>&hellip;</td></tr><tr><td>2954</td><td>489.145745</td></tr><tr><td>7358</td><td>489.09421</td></tr><tr><td>4796</td><td>489.027739</td></tr><tr><td>3413</td><td>488.686198</td></tr><tr><td>5859</td><td>488.370407</td></tr><tr><td>9780</td><td>488.268291</td></tr><tr><td>8072</td><td>488.02419</td></tr><tr><td>7857</td><td>487.942284</td></tr><tr><td>3562</td><td>487.731437</td></tr><tr><td>2595</td><td>487.36765</td></tr><tr><td>3059</td><td>487.295653</td></tr><tr><td>13713</td><td>485.223648</td></tr></tbody></table></div>"
      ],
      "text/plain": [
       "shape: (15_000, 2)\n",
       "┌───────────┬────────────┐\n",
       "│ client_id ┆ reading    │\n",
       "│ ---       ┆ ---        │\n",
       "│ i64       ┆ f64        │\n",
       "╞═══════════╪════════════╡\n",
       "│ 4495      ┆ 513.933888 │\n",
       "│ 8164      ┆ 513.760061 │\n",
       "│ 3796      ┆ 513.531397 │\n",
       "│ 4778      ┆ 513.426086 │\n",
       "│ …         ┆ …          │\n",
       "│ 3562      ┆ 487.731437 │\n",
       "│ 2595      ┆ 487.36765  │\n",
       "│ 3059      ┆ 487.295653 │\n",
       "│ 13713     ┆ 485.223648 │\n",
       "└───────────┴────────────┘"
      ]
     },
     "execution_count": 16,
     "metadata": {},
     "output_type": "execute_result"
    }
   ],
   "source": [
    "start_time = time.time()\n",
    "df = (\n",
    "    pl.scan_csv(csv_file)\n",
    "    .select(\"client_id\", \"reading\")\n",
    "    .group_by(\"client_id\")\n",
    "    .agg(pl.mean(\"reading\"))\n",
    "    .sort(\"reading\", descending=True)\n",
    "    .collect()\n",
    ")\n",
    "polars_scan_end_time = time.time() - start_time\n",
    "df"
   ]
  },
  {
   "cell_type": "markdown",
   "metadata": {},
   "source": [
    "### DASK"
   ]
  },
  {
   "cell_type": "code",
   "execution_count": 17,
   "metadata": {},
   "outputs": [
    {
     "name": "stdout",
     "output_type": "stream",
     "text": [
      "Dask Time: 11.801136016845703 seconds\n"
     ]
    },
    {
     "data": {
      "text/plain": [
       "client_id\n",
       "4495     513.933888\n",
       "8164     513.760061\n",
       "3796     513.531397\n",
       "4778     513.426086\n",
       "616      513.042390\n",
       "7945     512.390231\n",
       "3472     512.097417\n",
       "13002    512.095028\n",
       "3027     511.962784\n",
       "10926    511.949987\n",
       "Name: reading, dtype: float64"
      ]
     },
     "execution_count": 17,
     "metadata": {},
     "output_type": "execute_result"
    }
   ],
   "source": [
    "start_time = time.time()\n",
    "dask_df = dd.read_csv(csv_file)\n",
    "top_dask = dask_df.groupby(\"client_id\")[\"reading\"].mean().nlargest(10).compute()\n",
    "dask_end_time = time.time() - start_time\n",
    "print(f\"Dask Time: {dask_end_time} seconds\")\n",
    "top_dask"
   ]
  },
  {
   "cell_type": "code",
   "execution_count": 8,
   "metadata": {},
   "outputs": [
    {
     "data": {
      "text/plain": [
       "┌───────────┬────────────────────┬───────┐\n",
       "│ client_id │        mean        │ count │\n",
       "│   int64   │       double       │ int64 │\n",
       "├───────────┼────────────────────┼───────┤\n",
       "│      4495 │  513.9338879107169 │  6775 │\n",
       "│      8164 │  513.7600611476672 │  6624 │\n",
       "│      3796 │  513.5313974840019 │  6742 │\n",
       "│      4778 │  513.4260864237832 │  6918 │\n",
       "│       616 │  513.0423898277211 │  6689 │\n",
       "│      7945 │   512.390230810469 │  6674 │\n",
       "│      3472 │  512.0974170476485 │  6661 │\n",
       "│     13002 │  512.0950282726445 │  6680 │\n",
       "│      3027 │ 511.96278439717895 │  6703 │\n",
       "│     10926 │ 511.94998678644055 │  6581 │\n",
       "├───────────┴────────────────────┴───────┤\n",
       "│ 10 rows                      3 columns │\n",
       "└────────────────────────────────────────┘"
      ]
     },
     "execution_count": 8,
     "metadata": {},
     "output_type": "execute_result"
    }
   ],
   "source": [
    "# Timing DuckDB\n",
    "duckdb.sql(\n",
    "    \"\"\"\n",
    "    SELECT\n",
    "        client_id,\n",
    "        avg(reading) as mean,\n",
    "        count(*) as count\n",
    "    FROM\n",
    "        read_csv_auto('data/dataset.csv')\n",
    "    GROUP BY\n",
    "        client_id\n",
    "    ORDER BY\n",
    "        mean DESC\n",
    "    LIMIT 10;\n",
    "    \"\"\"\n",
    ")"
   ]
  },
  {
   "cell_type": "markdown",
   "metadata": {},
   "source": [
    "# What if we replace CSV with parquet?"
   ]
  },
  {
   "cell_type": "markdown",
   "metadata": {},
   "source": [
    "### Bare Pandas on parquet"
   ]
  },
  {
   "cell_type": "code",
   "execution_count": 19,
   "metadata": {},
   "outputs": [
    {
     "ename": "",
     "evalue": "",
     "output_type": "error",
     "traceback": [
      "\u001b[1;31mThe Kernel crashed while executing code in the the current cell or a previous cell. Please review the code in the cell(s) to identify a possible cause of the failure. Click <a href='https://aka.ms/vscodeJupyterKernelCrash'>here</a> for more info. View Jupyter <a href='command:jupyter.viewOutput'>log</a> for further details."
     ]
    }
   ],
   "source": [
    "def bare_pandas_on_parquet():\n",
    "    # Timing Pandas\n",
    "    start_time = time.time()\n",
    "    pandas_df = pd.read_parquet(parquet_file)\n",
    "    top_pandas = pandas_df.groupby(\"client_id\")[\"reading\"].mean().nlargest(10)\n",
    "    pandas_end_time = time.time() - start_time\n",
    "    print(f\"Pandas Time: {pandas_end_time} seconds\")\n",
    "    print(f\"Top Pandas Consumers:\\n{top_pandas}\\n\")\n",
    "    top_pandas\n",
    "\n",
    "\n",
    "# bare_pandas_on_parquet()"
   ]
  },
  {
   "cell_type": "markdown",
   "metadata": {},
   "source": [
    "## Bare Polars on Parquet"
   ]
  },
  {
   "cell_type": "code",
   "execution_count": null,
   "metadata": {},
   "outputs": [
    {
     "ename": "",
     "evalue": "",
     "output_type": "error",
     "traceback": [
      "\u001b[1;31mThe Kernel crashed while executing code in the the current cell or a previous cell. Please review the code in the cell(s) to identify a possible cause of the failure. Click <a href='https://aka.ms/vscodeJupyterKernelCrash'>here</a> for more info. View Jupyter <a href='command:jupyter.viewOutput'>log</a> for further details."
     ]
    }
   ],
   "source": [
    "def bare_polars_on_parq():\n",
    "    start_time = time.time()\n",
    "    polars_df = pl.read_parquet(parquet_file)\n",
    "    top_polars = (\n",
    "        polars_df.group_by(\"client_id\")\n",
    "        .agg(pl.mean(\"reading\"))\n",
    "        .sort(\"reading\", descending=True)\n",
    "        .head(10)\n",
    "    )\n",
    "    polars_end_time = time.time() - start_time\n",
    "    print(f\"Polars Time: {polars_end_time} seconds\")\n",
    "    print(f\"Top Polars Consumers:\\n{top_polars}\\n\")\n",
    "\n",
    "\n",
    "# bare_polars_on_parq()"
   ]
  },
  {
   "cell_type": "markdown",
   "metadata": {},
   "source": [
    "## Streamed Polars on Parquet"
   ]
  },
  {
   "cell_type": "code",
   "execution_count": 5,
   "metadata": {},
   "outputs": [
    {
     "data": {
      "text/html": [
       "<div><style>\n",
       ".dataframe > thead > tr,\n",
       ".dataframe > tbody > tr {\n",
       "  text-align: right;\n",
       "  white-space: pre-wrap;\n",
       "}\n",
       "</style>\n",
       "<small>shape: (10, 2)</small><table border=\"1\" class=\"dataframe\"><thead><tr><th>client_id</th><th>reading</th></tr><tr><td>i64</td><td>f64</td></tr></thead><tbody><tr><td>4495</td><td>513.933888</td></tr><tr><td>8164</td><td>513.760061</td></tr><tr><td>3796</td><td>513.531397</td></tr><tr><td>4778</td><td>513.426086</td></tr><tr><td>616</td><td>513.04239</td></tr><tr><td>7945</td><td>512.390231</td></tr><tr><td>3472</td><td>512.097417</td></tr><tr><td>13002</td><td>512.095028</td></tr><tr><td>3027</td><td>511.962784</td></tr><tr><td>10926</td><td>511.949987</td></tr></tbody></table></div>"
      ],
      "text/plain": [
       "shape: (10, 2)\n",
       "┌───────────┬────────────┐\n",
       "│ client_id ┆ reading    │\n",
       "│ ---       ┆ ---        │\n",
       "│ i64       ┆ f64        │\n",
       "╞═══════════╪════════════╡\n",
       "│ 4495      ┆ 513.933888 │\n",
       "│ 8164      ┆ 513.760061 │\n",
       "│ 3796      ┆ 513.531397 │\n",
       "│ 4778      ┆ 513.426086 │\n",
       "│ …         ┆ …          │\n",
       "│ 3472      ┆ 512.097417 │\n",
       "│ 13002     ┆ 512.095028 │\n",
       "│ 3027      ┆ 511.962784 │\n",
       "│ 10926     ┆ 511.949987 │\n",
       "└───────────┴────────────┘"
      ]
     },
     "execution_count": 5,
     "metadata": {},
     "output_type": "execute_result"
    }
   ],
   "source": [
    "start_time = time.time()\n",
    "df = (\n",
    "    pl.scan_parquet(parquet_file)\n",
    "    .select(\"client_id\", \"reading\")\n",
    "    .group_by(\"client_id\")\n",
    "    .agg(pl.mean(\"reading\"))\n",
    "    .sort(\"reading\", descending=True)\n",
    "    .collect()\n",
    ")\n",
    "polars_scan_parquet_end_time = time.time() - start_time\n",
    "df.head(10)"
   ]
  },
  {
   "cell_type": "markdown",
   "metadata": {},
   "source": [
    "### DASK on Parquet"
   ]
  },
  {
   "cell_type": "code",
   "execution_count": 8,
   "metadata": {},
   "outputs": [
    {
     "name": "stdout",
     "output_type": "stream",
     "text": [
      "Dask Time: 4.806739091873169 seconds\n"
     ]
    },
    {
     "data": {
      "text/plain": [
       "client_id\n",
       "4495     513.933888\n",
       "8164     513.760061\n",
       "3796     513.531397\n",
       "4778     513.426086\n",
       "616      513.042390\n",
       "7945     512.390231\n",
       "3472     512.097417\n",
       "13002    512.095028\n",
       "3027     511.962784\n",
       "10926    511.949987\n",
       "Name: reading, dtype: float64"
      ]
     },
     "execution_count": 8,
     "metadata": {},
     "output_type": "execute_result"
    },
    {
     "ename": "",
     "evalue": "",
     "output_type": "error",
     "traceback": [
      "\u001b[1;31mThe Kernel crashed while executing code in the the current cell or a previous cell. Please review the code in the cell(s) to identify a possible cause of the failure. Click <a href='https://aka.ms/vscodeJupyterKernelCrash'>here</a> for more info. View Jupyter <a href='command:jupyter.viewOutput'>log</a> for further details."
     ]
    }
   ],
   "source": [
    "start_time = time.time()\n",
    "dask_df = dd.read_parquet(parquet_file)\n",
    "top_dask = dask_df.groupby(\"client_id\")[\"reading\"].mean().nlargest(10).compute()\n",
    "dask_parquet_end_time = time.time() - start_time\n",
    "print(f\"Dask Time: {dask_parquet_end_time} seconds\")\n",
    "top_dask"
   ]
  },
  {
   "cell_type": "markdown",
   "metadata": {},
   "source": [
    "### DuckDB on Parquet"
   ]
  },
  {
   "cell_type": "code",
   "execution_count": 4,
   "metadata": {},
   "outputs": [
    {
     "data": {
      "text/plain": [
       "┌───────────┬────────────────────┬───────┐\n",
       "│ client_id │        mean        │ count │\n",
       "│   int64   │       double       │ int64 │\n",
       "├───────────┼────────────────────┼───────┤\n",
       "│      4495 │  513.9338879107169 │  6775 │\n",
       "│      8164 │  513.7600611476671 │  6624 │\n",
       "│      3796 │  513.5313974840019 │  6742 │\n",
       "│      4778 │  513.4260864237833 │  6918 │\n",
       "│       616 │   513.042389827721 │  6689 │\n",
       "│      7945 │  512.3902308104689 │  6674 │\n",
       "│      3472 │  512.0974170476486 │  6661 │\n",
       "│     13002 │  512.0950282726446 │  6680 │\n",
       "│      3027 │ 511.96278439717884 │  6703 │\n",
       "│     10926 │  511.9499867864405 │  6581 │\n",
       "├───────────┴────────────────────┴───────┤\n",
       "│ 10 rows                      3 columns │\n",
       "└────────────────────────────────────────┘"
      ]
     },
     "execution_count": 4,
     "metadata": {},
     "output_type": "execute_result"
    }
   ],
   "source": [
    "duckdb.sql(\n",
    "    \"\"\"\n",
    "    SELECT\n",
    "        client_id,\n",
    "        avg(reading) as mean,\n",
    "        count(*) as count\n",
    "    FROM\n",
    "        read_parquet('data/dataset.parquet')\n",
    "    GROUP BY\n",
    "        client_id\n",
    "    ORDER BY\n",
    "        mean DESC\n",
    "    LIMIT 10;\n",
    "    \"\"\"\n",
    ")"
   ]
  }
 ],
 "metadata": {
  "kernelspec": {
   "display_name": "bearace-b7I0f-G1-py3.11",
   "language": "python",
   "name": "python3"
  },
  "language_info": {
   "codemirror_mode": {
    "name": "ipython",
    "version": 3
   },
   "file_extension": ".py",
   "mimetype": "text/x-python",
   "name": "python",
   "nbconvert_exporter": "python",
   "pygments_lexer": "ipython3",
   "version": "3.11.6"
  }
 },
 "nbformat": 4,
 "nbformat_minor": 2
}
