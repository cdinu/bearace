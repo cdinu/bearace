{
 "cells": [
  {
   "cell_type": "markdown",
   "metadata": {},
   "source": [
    "# CSV and Parquet Dataframes in Julia"
   ]
  },
  {
   "cell_type": "code",
   "execution_count": 2,
   "metadata": {},
   "outputs": [
    {
     "name": "stderr",
     "output_type": "stream",
     "text": [
      "\u001b[32m\u001b[1m   Resolving\u001b[22m\u001b[39m package versions...\n",
      "\u001b[32m\u001b[1m  No Changes\u001b[22m\u001b[39m to `~/.julia/environments/v1.9/Project.toml`\n",
      "\u001b[32m\u001b[1m  No Changes\u001b[22m\u001b[39m to `~/.julia/environments/v1.9/Manifest.toml`\n"
     ]
    },
    {
     "name": "stderr",
     "output_type": "stream",
     "text": [
      "\u001b[32m\u001b[1m   Resolving\u001b[22m\u001b[39m package versions...\n"
     ]
    },
    {
     "name": "stderr",
     "output_type": "stream",
     "text": [
      "\u001b[32m\u001b[1m  No Changes\u001b[22m\u001b[39m to `~/.julia/environments/v1.9/Project.toml`\n",
      "\u001b[32m\u001b[1m  No Changes\u001b[22m\u001b[39m to `~/.julia/environments/v1.9/Manifest.toml`\n"
     ]
    }
   ],
   "source": [
    "using Pkg\n",
    "Pkg.add(\"CSV\")\n",
    "Pkg.add(\"DataFrames\")\n"
   ]
  },
  {
   "cell_type": "code",
   "execution_count": 4,
   "metadata": {},
   "outputs": [],
   "source": [
    "using CSV\n",
    "using DataFrames\n",
    "using Dates"
   ]
  },
  {
   "cell_type": "code",
   "execution_count": 6,
   "metadata": {},
   "outputs": [
    {
     "data": {
      "text/html": [
       "<div><div style = \"float: left;\"><span>100000000×4 DataFrame</span></div><div style = \"float: right;\"><span style = \"font-style: italic;\">99999975 rows omitted</span></div><div style = \"clear: both;\"></div></div><div class = \"data-frame\" style = \"overflow-x: scroll;\"><table class = \"data-frame\" style = \"margin-bottom: 6px;\"><thead><tr class = \"header\"><th class = \"rowNumber\" style = \"font-weight: bold; text-align: right;\">Row</th><th style = \"text-align: left;\">timestamp</th><th style = \"text-align: left;\">client_id</th><th style = \"text-align: left;\">type</th><th style = \"text-align: left;\">reading</th></tr><tr class = \"subheader headerLastRow\"><th class = \"rowNumber\" style = \"font-weight: bold; text-align: right;\"></th><th title = \"Int64\" style = \"text-align: left;\">Int64</th><th title = \"Int64\" style = \"text-align: left;\">Int64</th><th title = \"String7\" style = \"text-align: left;\">String7</th><th title = \"Float64\" style = \"text-align: left;\">Float64</th></tr></thead><tbody><tr><td class = \"rowNumber\" style = \"font-weight: bold; text-align: right;\">1</td><td style = \"text-align: right;\">1656777759457</td><td style = \"text-align: right;\">2472</td><td style = \"text-align: left;\">Ipsum</td><td style = \"text-align: right;\">288.887</td></tr><tr><td class = \"rowNumber\" style = \"font-weight: bold; text-align: right;\">2</td><td style = \"text-align: right;\">1284134558860</td><td style = \"text-align: right;\">11305</td><td style = \"text-align: left;\">Lorem</td><td style = \"text-align: right;\">407.318</td></tr><tr><td class = \"rowNumber\" style = \"font-weight: bold; text-align: right;\">3</td><td style = \"text-align: right;\">1466916753843</td><td style = \"text-align: right;\">208</td><td style = \"text-align: left;\">Dolor</td><td style = \"text-align: right;\">2.60125</td></tr><tr><td class = \"rowNumber\" style = \"font-weight: bold; text-align: right;\">4</td><td style = \"text-align: right;\">1599641878652</td><td style = \"text-align: right;\">3369</td><td style = \"text-align: left;\">Amet</td><td style = \"text-align: right;\">247.288</td></tr><tr><td class = \"rowNumber\" style = \"font-weight: bold; text-align: right;\">5</td><td style = \"text-align: right;\">1427297609094</td><td style = \"text-align: right;\">14840</td><td style = \"text-align: left;\">Dolor</td><td style = \"text-align: right;\">951.672</td></tr><tr><td class = \"rowNumber\" style = \"font-weight: bold; text-align: right;\">6</td><td style = \"text-align: right;\">1331776556044</td><td style = \"text-align: right;\">11674</td><td style = \"text-align: left;\">Ipsum</td><td style = \"text-align: right;\">292.374</td></tr><tr><td class = \"rowNumber\" style = \"font-weight: bold; text-align: right;\">7</td><td style = \"text-align: right;\">1065956677081</td><td style = \"text-align: right;\">9406</td><td style = \"text-align: left;\">Ipsum</td><td style = \"text-align: right;\">969.605</td></tr><tr><td class = \"rowNumber\" style = \"font-weight: bold; text-align: right;\">8</td><td style = \"text-align: right;\">1598906212121</td><td style = \"text-align: right;\">8103</td><td style = \"text-align: left;\">Amet</td><td style = \"text-align: right;\">390.119</td></tr><tr><td class = \"rowNumber\" style = \"font-weight: bold; text-align: right;\">9</td><td style = \"text-align: right;\">1005861378644</td><td style = \"text-align: right;\">2322</td><td style = \"text-align: left;\">Dolor</td><td style = \"text-align: right;\">314.181</td></tr><tr><td class = \"rowNumber\" style = \"font-weight: bold; text-align: right;\">10</td><td style = \"text-align: right;\">1429659729403</td><td style = \"text-align: right;\">6094</td><td style = \"text-align: left;\">Amet</td><td style = \"text-align: right;\">603.739</td></tr><tr><td class = \"rowNumber\" style = \"font-weight: bold; text-align: right;\">11</td><td style = \"text-align: right;\">1585979980487</td><td style = \"text-align: right;\">7052</td><td style = \"text-align: left;\">Lorem</td><td style = \"text-align: right;\">907.004</td></tr><tr><td class = \"rowNumber\" style = \"font-weight: bold; text-align: right;\">12</td><td style = \"text-align: right;\">1661971513534</td><td style = \"text-align: right;\">6443</td><td style = \"text-align: left;\">Dolor</td><td style = \"text-align: right;\">772.156</td></tr><tr><td class = \"rowNumber\" style = \"font-weight: bold; text-align: right;\">13</td><td style = \"text-align: right;\">1556250946496</td><td style = \"text-align: right;\">7009</td><td style = \"text-align: left;\">Dolor</td><td style = \"text-align: right;\">340.137</td></tr><tr><td style = \"text-align: right;\">&vellip;</td><td style = \"text-align: right;\">&vellip;</td><td style = \"text-align: right;\">&vellip;</td><td style = \"text-align: right;\">&vellip;</td><td style = \"text-align: right;\">&vellip;</td></tr><tr><td class = \"rowNumber\" style = \"font-weight: bold; text-align: right;\">99999989</td><td style = \"text-align: right;\">1256953540141</td><td style = \"text-align: right;\">13208</td><td style = \"text-align: left;\">Lorem</td><td style = \"text-align: right;\">744.432</td></tr><tr><td class = \"rowNumber\" style = \"font-weight: bold; text-align: right;\">99999990</td><td style = \"text-align: right;\">1330845653983</td><td style = \"text-align: right;\">10711</td><td style = \"text-align: left;\">Amet</td><td style = \"text-align: right;\">713.656</td></tr><tr><td class = \"rowNumber\" style = \"font-weight: bold; text-align: right;\">99999991</td><td style = \"text-align: right;\">1535895318690</td><td style = \"text-align: right;\">10503</td><td style = \"text-align: left;\">Amet</td><td style = \"text-align: right;\">708.955</td></tr><tr><td class = \"rowNumber\" style = \"font-weight: bold; text-align: right;\">99999992</td><td style = \"text-align: right;\">1541409305683</td><td style = \"text-align: right;\">957</td><td style = \"text-align: left;\">Lorem</td><td style = \"text-align: right;\">332.962</td></tr><tr><td class = \"rowNumber\" style = \"font-weight: bold; text-align: right;\">99999993</td><td style = \"text-align: right;\">1642033058365</td><td style = \"text-align: right;\">8823</td><td style = \"text-align: left;\">Amet</td><td style = \"text-align: right;\">853.228</td></tr><tr><td class = \"rowNumber\" style = \"font-weight: bold; text-align: right;\">99999994</td><td style = \"text-align: right;\">1126794724735</td><td style = \"text-align: right;\">13356</td><td style = \"text-align: left;\">Lorem</td><td style = \"text-align: right;\">259.568</td></tr><tr><td class = \"rowNumber\" style = \"font-weight: bold; text-align: right;\">99999995</td><td style = \"text-align: right;\">1135742467244</td><td style = \"text-align: right;\">13138</td><td style = \"text-align: left;\">Ipsum</td><td style = \"text-align: right;\">932.885</td></tr><tr><td class = \"rowNumber\" style = \"font-weight: bold; text-align: right;\">99999996</td><td style = \"text-align: right;\">1395756784983</td><td style = \"text-align: right;\">14941</td><td style = \"text-align: left;\">Ipsum</td><td style = \"text-align: right;\">621.754</td></tr><tr><td class = \"rowNumber\" style = \"font-weight: bold; text-align: right;\">99999997</td><td style = \"text-align: right;\">1021109681702</td><td style = \"text-align: right;\">14292</td><td style = \"text-align: left;\">Dolor</td><td style = \"text-align: right;\">233.277</td></tr><tr><td class = \"rowNumber\" style = \"font-weight: bold; text-align: right;\">99999998</td><td style = \"text-align: right;\">1141927583861</td><td style = \"text-align: right;\">11816</td><td style = \"text-align: left;\">Dolor</td><td style = \"text-align: right;\">151.834</td></tr><tr><td class = \"rowNumber\" style = \"font-weight: bold; text-align: right;\">99999999</td><td style = \"text-align: right;\">1484123432753</td><td style = \"text-align: right;\">1183</td><td style = \"text-align: left;\">Ipsum</td><td style = \"text-align: right;\">77.1476</td></tr><tr><td class = \"rowNumber\" style = \"font-weight: bold; text-align: right;\">100000000</td><td style = \"text-align: right;\">1631603881132</td><td style = \"text-align: right;\">14230</td><td style = \"text-align: left;\">Dolor</td><td style = \"text-align: right;\">818.797</td></tr></tbody></table></div>"
      ],
      "text/latex": [
       "\\begin{tabular}{r|cccc}\n",
       "\t& timestamp & client\\_id & type & reading\\\\\n",
       "\t\\hline\n",
       "\t& Int64 & Int64 & String7 & Float64\\\\\n",
       "\t\\hline\n",
       "\t1 & 1656777759457 & 2472 & Ipsum & 288.887 \\\\\n",
       "\t2 & 1284134558860 & 11305 & Lorem & 407.318 \\\\\n",
       "\t3 & 1466916753843 & 208 & Dolor & 2.60125 \\\\\n",
       "\t4 & 1599641878652 & 3369 & Amet & 247.288 \\\\\n",
       "\t5 & 1427297609094 & 14840 & Dolor & 951.672 \\\\\n",
       "\t6 & 1331776556044 & 11674 & Ipsum & 292.374 \\\\\n",
       "\t7 & 1065956677081 & 9406 & Ipsum & 969.605 \\\\\n",
       "\t8 & 1598906212121 & 8103 & Amet & 390.119 \\\\\n",
       "\t9 & 1005861378644 & 2322 & Dolor & 314.181 \\\\\n",
       "\t10 & 1429659729403 & 6094 & Amet & 603.739 \\\\\n",
       "\t11 & 1585979980487 & 7052 & Lorem & 907.004 \\\\\n",
       "\t12 & 1661971513534 & 6443 & Dolor & 772.156 \\\\\n",
       "\t13 & 1556250946496 & 7009 & Dolor & 340.137 \\\\\n",
       "\t14 & 1034648835561 & 4476 & Ipsum & 223.556 \\\\\n",
       "\t15 & 1530508562187 & 10165 & Dolor & 427.563 \\\\\n",
       "\t16 & 1145339622615 & 3192 & Ipsum & 956.667 \\\\\n",
       "\t17 & 1102316119914 & 1525 & Lorem & 862.833 \\\\\n",
       "\t18 & 1071225767057 & 12549 & Amet & 533.084 \\\\\n",
       "\t19 & 1447995373355 & 13493 & Dolor & 897.606 \\\\\n",
       "\t20 & 1334598659132 & 9692 & Ipsum & 56.2202 \\\\\n",
       "\t21 & 1555564089074 & 2942 & Amet & 158.555 \\\\\n",
       "\t22 & 1275203163695 & 2448 & Amet & 628.809 \\\\\n",
       "\t23 & 1012406905719 & 14810 & Ipsum & 408.477 \\\\\n",
       "\t24 & 1587523719557 & 9355 & Ipsum & 430.961 \\\\\n",
       "\t$\\dots$ & $\\dots$ & $\\dots$ & $\\dots$ & $\\dots$ \\\\\n",
       "\\end{tabular}\n"
      ],
      "text/plain": [
       "\u001b[1m100000000×4 DataFrame\u001b[0m\n",
       "\u001b[1m       Row \u001b[0m│\u001b[1m timestamp     \u001b[0m\u001b[1m client_id \u001b[0m\u001b[1m type    \u001b[0m\u001b[1m reading   \u001b[0m\n",
       "           │\u001b[90m Int64         \u001b[0m\u001b[90m Int64     \u001b[0m\u001b[90m String7 \u001b[0m\u001b[90m Float64   \u001b[0m\n",
       "───────────┼──────────────────────────────────────────────\n",
       "         1 │ 1656777759457       2472  Ipsum    288.887\n",
       "         2 │ 1284134558860      11305  Lorem    407.318\n",
       "         3 │ 1466916753843        208  Dolor      2.60125\n",
       "         4 │ 1599641878652       3369  Amet     247.288\n",
       "         5 │ 1427297609094      14840  Dolor    951.672\n",
       "         6 │ 1331776556044      11674  Ipsum    292.374\n",
       "         7 │ 1065956677081       9406  Ipsum    969.605\n",
       "         8 │ 1598906212121       8103  Amet     390.119\n",
       "     ⋮     │       ⋮            ⋮         ⋮         ⋮\n",
       "  99999994 │ 1126794724735      13356  Lorem    259.568\n",
       "  99999995 │ 1135742467244      13138  Ipsum    932.885\n",
       "  99999996 │ 1395756784983      14941  Ipsum    621.754\n",
       "  99999997 │ 1021109681702      14292  Dolor    233.277\n",
       "  99999998 │ 1141927583861      11816  Dolor    151.834\n",
       "  99999999 │ 1484123432753       1183  Ipsum     77.1476\n",
       " 100000000 │ 1631603881132      14230  Dolor    818.797\n",
       "\u001b[36m                                     99999985 rows omitted\u001b[0m"
      ]
     },
     "metadata": {},
     "output_type": "display_data"
    }
   ],
   "source": [
    "df = CSV.File(\"data/dataset.csv\") |> DataFrame"
   ]
  }
 ],
 "metadata": {
  "kernelspec": {
   "display_name": "Julia 1.9.4",
   "language": "julia",
   "name": "julia-1.9"
  },
  "language_info": {
   "file_extension": ".jl",
   "mimetype": "application/julia",
   "name": "julia",
   "version": "1.9.4"
  }
 },
 "nbformat": 4,
 "nbformat_minor": 2
}
